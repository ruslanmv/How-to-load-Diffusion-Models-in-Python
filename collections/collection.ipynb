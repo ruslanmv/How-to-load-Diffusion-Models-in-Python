{
 "cells": [
  {
   "cell_type": "code",
   "execution_count": 23,
   "id": "86b25250-48f7-4eb4-a860-67b9dfcc609a",
   "metadata": {},
   "outputs": [],
   "source": [
    "import os\n",
    "import gradio as gr\n",
    "import torch\n",
    "import numpy as np\n",
    "import pandas as pd\n",
    "from diffusers import DiffusionPipeline\n",
    "from transformers import pipeline\n",
    "from PIL import Image\n",
    "from tqdm import tqdm\n",
    "import random\n",
    "pipe = pipeline('text-generation', model='daspartho/prompt-extend')\n",
    "\n",
    "def extend_prompt(prompt):\n",
    "    return pipe(prompt+',', num_return_sequences=1)[0][\"generated_text\"]\n",
    "\n",
    "def text_it(inputs):\n",
    "    return extend_prompt(inputs)\n",
    "\n",
    "custom_cache_dir = \"./.cache/stabilityai/sdxl-turbo\"\n",
    "\n",
    "def load_pipeline(use_cuda):\n",
    "    device = \"cuda\" if use_cuda and torch.cuda.is_available() else \"cpu\"\n",
    "    if device == \"cuda\":\n",
    "        torch.cuda.max_memory_allocated(device=device)\n",
    "        torch.cuda.empty_cache()\n",
    "        pipe = DiffusionPipeline.from_pretrained(\"stabilityai/sdxl-turbo\", torch_dtype=torch.float16, variant=\"fp16\", use_safetensors=True, cache_dir=custom_cache_dir)\n",
    "        pipe.enable_xformers_memory_efficient_attention()\n",
    "        pipe = pipe.to(device)\n",
    "        torch.cuda.empty_cache()\n",
    "    else:\n",
    "        pipe = DiffusionPipeline.from_pretrained(\"stabilityai/sdxl-turbo\", use_safetensors=True, cache_dir=custom_cache_dir)\n",
    "        pipe = pipe.to(device)\n",
    "    return pipe\n",
    "\n",
    "def genie(prompt=\"sexy woman\", steps=2, seed=0, use_cuda=False):\n",
    "    pipe = load_pipeline(use_cuda)\n",
    "    generator = np.random.seed(0) if seed == 0 else torch.manual_seed(seed)\n",
    "    extended_prompt = extend_prompt(prompt)\n",
    "    int_image = pipe(prompt=extended_prompt, generator=generator, num_inference_steps=steps, guidance_scale=0.0).images[0]\n",
    "    return int_image, extended_prompt\n",
    "\n",
    "from tqdm import tqdm\n",
    "\n",
    "def save_images(prompt=\"sexy woman\", steps=2, use_cuda=False, num_images=1000, folder=\"collection\", input_seed=0):\n",
    "    if not os.path.exists(folder):\n",
    "        os.makedirs(folder)\n",
    "    \n",
    "    data = []\n",
    "    columns = ['Image','Prompt', 'Extended_Prompt', 'Steps', 'Seed','Path']\n",
    "    df = pd.DataFrame(columns=columns)\n",
    "    df.to_csv('collection.csv', index=False)\n",
    "\n",
    "    for i in tqdm(range(num_images), desc=\"Generating Images\"):\n",
    "        seed = random.randint(1, 999999999999999999) if input_seed == 0 else input_seed\n",
    "        int_image, extended_prompt = genie(prompt=prompt, steps=steps, seed=seed, use_cuda=use_cuda)\n",
    "        image_filename = f\"image_{i+1}.png\"\n",
    "        file_path=f\"{folder}/{image_filename}\"\n",
    "        int_image.save(file_path)\n",
    "        new_data = [image_filename,prompt, extended_prompt, steps, seed,file_path]\n",
    "        data.append(new_data)\n",
    "        # Update the DataFrame and save it to the CSV file\n",
    "        df = pd.DataFrame(data, columns=columns)\n",
    "        df.to_csv('collection.csv', index=False)\n",
    "\n",
    "# Call the save_images function to generate and save 1000 images\n",
    "#save_images(prompt=\"sexy woman\", steps=2, use_cuda=False, num_images=1000, folder=\"collection\")\n"
   ]
  },
  {
   "cell_type": "code",
   "execution_count": 24,
   "id": "00abc0bd-499a-4a1f-ad68-e531a7e79201",
   "metadata": {},
   "outputs": [
    {
     "name": "stderr",
     "output_type": "stream",
     "text": [
      "Generating Images:   0%|                                                                         | 0/2 [00:00<?, ?it/s]The config attributes {'feature_extractor': [None, None], 'image_encoder': [None, None]} were passed to StableDiffusionXLPipeline, but are not expected and will be ignored. Please verify your model_index.json configuration file.\n",
      "Keyword arguments {'feature_extractor': [None, None], 'image_encoder': [None, None]} are not expected by StableDiffusionXLPipeline and will be ignored.\n"
     ]
    },
    {
     "data": {
      "application/vnd.jupyter.widget-view+json": {
       "model_id": "2e9244a0bbda45b294d30df3ee856bc2",
       "version_major": 2,
       "version_minor": 0
      },
      "text/plain": [
       "Loading pipeline components...:   0%|          | 0/7 [00:00<?, ?it/s]"
      ]
     },
     "metadata": {},
     "output_type": "display_data"
    },
    {
     "name": "stderr",
     "output_type": "stream",
     "text": [
      "Setting `pad_token_id` to `eos_token_id`:0 for open-end generation.\n"
     ]
    },
    {
     "data": {
      "application/vnd.jupyter.widget-view+json": {
       "model_id": "191ffe3db84a497d92c8cbc78b17631e",
       "version_major": 2,
       "version_minor": 0
      },
      "text/plain": [
       "  0%|          | 0/2 [00:00<?, ?it/s]"
      ]
     },
     "metadata": {},
     "output_type": "display_data"
    },
    {
     "name": "stderr",
     "output_type": "stream",
     "text": [
      "Generating Images:  50%|████████████████████████████████▌                                | 1/2 [00:36<00:36, 36.15s/it]The config attributes {'feature_extractor': [None, None], 'image_encoder': [None, None]} were passed to StableDiffusionXLPipeline, but are not expected and will be ignored. Please verify your model_index.json configuration file.\n",
      "Keyword arguments {'feature_extractor': [None, None], 'image_encoder': [None, None]} are not expected by StableDiffusionXLPipeline and will be ignored.\n"
     ]
    },
    {
     "data": {
      "application/vnd.jupyter.widget-view+json": {
       "model_id": "d4b03d71ca224f2990b37d3845221b16",
       "version_major": 2,
       "version_minor": 0
      },
      "text/plain": [
       "Loading pipeline components...:   0%|          | 0/7 [00:00<?, ?it/s]"
      ]
     },
     "metadata": {},
     "output_type": "display_data"
    },
    {
     "name": "stderr",
     "output_type": "stream",
     "text": [
      "Setting `pad_token_id` to `eos_token_id`:0 for open-end generation.\n"
     ]
    },
    {
     "data": {
      "application/vnd.jupyter.widget-view+json": {
       "model_id": "4f3b6ce30df74256b35ffea287bc0d3c",
       "version_major": 2,
       "version_minor": 0
      },
      "text/plain": [
       "  0%|          | 0/2 [00:00<?, ?it/s]"
      ]
     },
     "metadata": {},
     "output_type": "display_data"
    },
    {
     "name": "stderr",
     "output_type": "stream",
     "text": [
      "Generating Images: 100%|█████████████████████████████████████████████████████████████████| 2/2 [01:17<00:00, 38.78s/it]\n"
     ]
    }
   ],
   "source": [
    "save_images(prompt=\"sexy woman\", steps=2, use_cuda=False, num_images=1000, folder=\"collection\")"
   ]
  },
  {
   "cell_type": "code",
   "execution_count": null,
   "id": "9a414f66-acf1-496a-8878-419854e47dab",
   "metadata": {},
   "outputs": [],
   "source": [
    "#sexy woman with long, flowing blonde hair. "
   ]
  },
  {
   "cell_type": "code",
   "execution_count": null,
   "id": "1405b9a0-adbb-4bdd-b505-a206ae066c0d",
   "metadata": {},
   "outputs": [],
   "source": []
  },
  {
   "cell_type": "code",
   "execution_count": null,
   "id": "c9ae16cc-a77e-4a7c-92d8-9c1f7a4bf639",
   "metadata": {},
   "outputs": [],
   "source": []
  }
 ],
 "metadata": {
  "kernelspec": {
   "display_name": "Python (SDXL)",
   "language": "python",
   "name": "sdxl"
  },
  "language_info": {
   "codemirror_mode": {
    "name": "ipython",
    "version": 3
   },
   "file_extension": ".py",
   "mimetype": "text/x-python",
   "name": "python",
   "nbconvert_exporter": "python",
   "pygments_lexer": "ipython3",
   "version": "3.10.11"
  }
 },
 "nbformat": 4,
 "nbformat_minor": 5
}
